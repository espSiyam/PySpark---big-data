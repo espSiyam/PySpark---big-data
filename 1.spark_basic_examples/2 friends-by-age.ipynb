{
 "cells": [
  {
   "cell_type": "code",
   "execution_count": 1,
   "metadata": {},
   "outputs": [
    {
     "name": "stderr",
     "output_type": "stream",
     "text": [
      "23/07/15 23:58:44 WARN Utils: Your hostname, siyam resolves to a loopback address: 127.0.1.1; using 192.168.0.107 instead (on interface wlp0s20f3)\n",
      "23/07/15 23:58:44 WARN Utils: Set SPARK_LOCAL_IP if you need to bind to another address\n",
      "Setting default log level to \"WARN\".\n",
      "To adjust logging level use sc.setLogLevel(newLevel). For SparkR, use setLogLevel(newLevel).\n",
      "23/07/15 23:58:45 WARN NativeCodeLoader: Unable to load native-hadoop library for your platform... using builtin-java classes where applicable\n"
     ]
    }
   ],
   "source": [
    "from pyspark import SparkConf, SparkContext\n",
    "\n",
    "conf = SparkConf().setMaster(\"local\").setAppName(\"FriendsByAge\")\n",
    "sc = SparkContext(conf = conf)"
   ]
  },
  {
   "cell_type": "code",
   "execution_count": 19,
   "metadata": {},
   "outputs": [],
   "source": [
    "def parseLine(line):\n",
    "    fields = line.split(\",\")\n",
    "    age = int(fields[2])\n",
    "    numFriends = int(fields[3])\n",
    "    return (age, numFriends)\n",
    "\n",
    "lines = sc.textFile(\"/home/siyam/Desktop/github/0.1_personal_projects/spark_course/ml-100k/fakefriends.csv\")\n",
    "map_file = lines.map(parseLine)\n",
    "age_map = map_file.mapValues(lambda x:(x, 1))\n",
    "totalsByAge = age_map.reduceByKey(lambda x,y: (x[0]+ y[0], x[1]+y[1]))\n",
    "avgByAge = totalsByAge.mapValues(lambda x: round(x[0]/x[1],1))\n",
    "results = avgByAge.collect()"
   ]
  },
  {
   "cell_type": "code",
   "execution_count": 20,
   "metadata": {},
   "outputs": [
    {
     "name": "stdout",
     "output_type": "stream",
     "text": [
      "(33, 325.3)\n",
      "(26, 242.1)\n",
      "(55, 295.5)\n",
      "(40, 250.8)\n",
      "(68, 269.6)\n",
      "(59, 220.0)\n",
      "(37, 249.3)\n",
      "(54, 278.1)\n",
      "(38, 193.5)\n",
      "(27, 228.1)\n",
      "(53, 222.9)\n",
      "(57, 258.8)\n",
      "(56, 306.7)\n",
      "(43, 230.6)\n",
      "(36, 246.6)\n",
      "(22, 206.4)\n",
      "(35, 211.6)\n",
      "(45, 309.5)\n",
      "(60, 202.7)\n",
      "(67, 214.6)\n",
      "(19, 213.3)\n",
      "(30, 235.8)\n",
      "(51, 302.1)\n",
      "(25, 197.5)\n",
      "(21, 350.9)\n",
      "(42, 303.5)\n",
      "(49, 184.7)\n",
      "(48, 281.4)\n",
      "(50, 254.6)\n",
      "(39, 169.3)\n",
      "(32, 207.9)\n",
      "(58, 116.5)\n",
      "(64, 281.3)\n",
      "(31, 267.2)\n",
      "(52, 340.6)\n",
      "(24, 233.8)\n",
      "(20, 165.0)\n",
      "(62, 220.8)\n",
      "(41, 268.6)\n",
      "(44, 282.2)\n",
      "(69, 235.2)\n",
      "(65, 298.2)\n",
      "(61, 256.2)\n",
      "(28, 209.1)\n",
      "(66, 276.4)\n",
      "(46, 223.7)\n",
      "(29, 215.9)\n",
      "(18, 343.4)\n",
      "(47, 233.2)\n",
      "(34, 245.5)\n",
      "(63, 384.0)\n",
      "(23, 246.3)\n"
     ]
    }
   ],
   "source": [
    "for result in results:\n",
    "    print(result)"
   ]
  },
  {
   "cell_type": "code",
   "execution_count": 21,
   "metadata": {},
   "outputs": [
    {
     "data": {
      "text/plain": [
       "[(33, 325.3),\n",
       " (26, 242.1),\n",
       " (55, 295.5),\n",
       " (40, 250.8),\n",
       " (68, 269.6),\n",
       " (59, 220.0),\n",
       " (37, 249.3),\n",
       " (54, 278.1),\n",
       " (38, 193.5),\n",
       " (27, 228.1),\n",
       " (53, 222.9),\n",
       " (57, 258.8),\n",
       " (56, 306.7),\n",
       " (43, 230.6),\n",
       " (36, 246.6),\n",
       " (22, 206.4),\n",
       " (35, 211.6),\n",
       " (45, 309.5),\n",
       " (60, 202.7),\n",
       " (67, 214.6),\n",
       " (19, 213.3),\n",
       " (30, 235.8),\n",
       " (51, 302.1),\n",
       " (25, 197.5),\n",
       " (21, 350.9),\n",
       " (42, 303.5),\n",
       " (49, 184.7),\n",
       " (48, 281.4),\n",
       " (50, 254.6),\n",
       " (39, 169.3),\n",
       " (32, 207.9),\n",
       " (58, 116.5),\n",
       " (64, 281.3),\n",
       " (31, 267.2),\n",
       " (52, 340.6),\n",
       " (24, 233.8),\n",
       " (20, 165.0),\n",
       " (62, 220.8),\n",
       " (41, 268.6),\n",
       " (44, 282.2),\n",
       " (69, 235.2),\n",
       " (65, 298.2),\n",
       " (61, 256.2),\n",
       " (28, 209.1),\n",
       " (66, 276.4),\n",
       " (46, 223.7),\n",
       " (29, 215.9),\n",
       " (18, 343.4),\n",
       " (47, 233.2),\n",
       " (34, 245.5),\n",
       " (63, 384.0),\n",
       " (23, 246.3)]"
      ]
     },
     "execution_count": 21,
     "metadata": {},
     "output_type": "execute_result"
    }
   ],
   "source": [
    "results"
   ]
  },
  {
   "cell_type": "code",
   "execution_count": null,
   "metadata": {},
   "outputs": [],
   "source": []
  }
 ],
 "metadata": {
  "kernelspec": {
   "display_name": "concured",
   "language": "python",
   "name": "python3"
  },
  "language_info": {
   "codemirror_mode": {
    "name": "ipython",
    "version": 3
   },
   "file_extension": ".py",
   "mimetype": "text/x-python",
   "name": "python",
   "nbconvert_exporter": "python",
   "pygments_lexer": "ipython3",
   "version": "3.11.2"
  },
  "orig_nbformat": 4
 },
 "nbformat": 4,
 "nbformat_minor": 2
}
