{
 "cells": [
  {
   "cell_type": "code",
   "execution_count": 1,
   "metadata": {},
   "outputs": [
    {
     "name": "stderr",
     "output_type": "stream",
     "text": [
      "23/07/16 14:07:42 WARN Utils: Your hostname, siyam resolves to a loopback address: 127.0.1.1; using 192.168.0.107 instead (on interface wlp0s20f3)\n",
      "23/07/16 14:07:42 WARN Utils: Set SPARK_LOCAL_IP if you need to bind to another address\n",
      "Setting default log level to \"WARN\".\n",
      "To adjust logging level use sc.setLogLevel(newLevel). For SparkR, use setLogLevel(newLevel).\n",
      "23/07/16 14:07:43 WARN NativeCodeLoader: Unable to load native-hadoop library for your platform... using builtin-java classes where applicable\n"
     ]
    }
   ],
   "source": [
    "from pyspark import SparkConf, SparkContext\n",
    "\n",
    "conf = SparkConf().setMaster(\"local\").setAppName(\"MinTemperature\")\n",
    "sc = SparkContext(conf = conf)"
   ]
  },
  {
   "cell_type": "code",
   "execution_count": 2,
   "metadata": {},
   "outputs": [
    {
     "name": "stderr",
     "output_type": "stream",
     "text": [
      "                                                                                \r"
     ]
    }
   ],
   "source": [
    "def parse_line(line):\n",
    "    fields = line.split(\",\")\n",
    "    station_id = fields[0]\n",
    "    entry_type = fields[2]\n",
    "    temp = float(fields[3]) * 0.1 * (9/5) + 32\n",
    "    return (station_id, entry_type, temp)\n",
    "\n",
    "lines = sc.textFile(\"/home/siyam/Desktop/github/0.1_personal_projects/spark_course/ml-100k/1800.csv\")\n",
    "parse_lines_rdd = lines.map(parse_line)\n",
    "min_temp_rdd = parse_lines_rdd.filter(lambda x: \"TMIN\" in x[1])\n",
    "station_temp_rdd = min_temp_rdd.map(lambda x: (x[0], x[2]))\n",
    "min_temp_rdd = station_temp_rdd.reduceByKey(lambda x, y: min(x,y))\n",
    "results = min_temp_rdd.collect()"
   ]
  },
  {
   "cell_type": "code",
   "execution_count": 3,
   "metadata": {},
   "outputs": [
    {
     "name": "stdout",
     "output_type": "stream",
     "text": [
      "ITE00100554\t5.36F\n",
      "EZE00100082\t7.70F\n"
     ]
    }
   ],
   "source": [
    " for result in results:\n",
    "    print(result[0]+\"\\t{:.2f}F\".format(result[1]))"
   ]
  },
  {
   "cell_type": "markdown",
   "metadata": {},
   "source": [
    "### Maximum temparature"
   ]
  },
  {
   "cell_type": "code",
   "execution_count": 11,
   "metadata": {},
   "outputs": [
    {
     "name": "stdout",
     "output_type": "stream",
     "text": [
      "ITE00100554\t90.14F\n",
      "EZE00100082\t90.14F\n"
     ]
    }
   ],
   "source": [
    "def parse_line(line):\n",
    "    fields = line.split(\",\")\n",
    "    station_id = fields[0]\n",
    "    entry_type = fields[2]\n",
    "    temp = float(fields[3]) * 0.1 * (9/5) + 32\n",
    "    return (station_id, entry_type, temp)\n",
    "\n",
    "lines = sc.textFile(\"/home/siyam/Desktop/github/0.1_personal_projects/spark_course/ml-100k/1800.csv\")\n",
    "parse_lines_rdd = lines.map(parse_line)\n",
    "max_temp = parse_lines_rdd.filter(lambda x: \"TMAX\" in x[1])\n",
    "station_temp_rdd = max_temp.map(lambda x: (x[0], x[2]))\n",
    "max_temp_rdd = station_temp_rdd.reduceByKey(lambda x,y: max(x,y))\n",
    "\n",
    "results = max_temp_rdd.collect()\n",
    "\n",
    "for result in results:\n",
    "    print(result[0]+\"\\t{:.2f}F\".format(result[1]))"
   ]
  },
  {
   "cell_type": "code",
   "execution_count": null,
   "metadata": {},
   "outputs": [],
   "source": []
  }
 ],
 "metadata": {
  "kernelspec": {
   "display_name": "concured",
   "language": "python",
   "name": "python3"
  },
  "language_info": {
   "codemirror_mode": {
    "name": "ipython",
    "version": 3
   },
   "file_extension": ".py",
   "mimetype": "text/x-python",
   "name": "python",
   "nbconvert_exporter": "python",
   "pygments_lexer": "ipython3",
   "version": "3.11.2"
  },
  "orig_nbformat": 4
 },
 "nbformat": 4,
 "nbformat_minor": 2
}
